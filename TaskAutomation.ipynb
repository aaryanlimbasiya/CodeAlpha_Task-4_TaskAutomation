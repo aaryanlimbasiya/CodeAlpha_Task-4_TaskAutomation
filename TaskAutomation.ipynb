{
  "nbformat": 4,
  "nbformat_minor": 0,
  "metadata": {
    "colab": {
      "provenance": [],
      "authorship_tag": "ABX9TyMScIpxg7Ytl2qtDutmPyYC"
    },
    "kernelspec": {
      "name": "python3",
      "display_name": "Python 3"
    },
    "language_info": {
      "name": "python"
    }
  },
  "cells": [
    {
      "cell_type": "code",
      "execution_count": 3,
      "metadata": {
        "colab": {
          "base_uri": "https://localhost:8080/"
        },
        "id": "1mspGDvmSgfR",
        "outputId": "fce8e65f-d3e2-471b-b77d-286624193d05"
      },
      "outputs": [
        {
          "output_type": "stream",
          "name": "stdout",
          "text": [
            "Data cleaning complete. Cleaned file saved to: cleaned_data.csv\n"
          ]
        }
      ],
      "source": [
        "import pandas as pd\n",
        "\n",
        "def clean_data(ile_path, output_path):\n",
        "    # Load the dataset\n",
        "    df = pd.read_csv(\"/content/sample_data/california_housing_train.csv\")\n",
        "\n",
        "    # Drop rows with any null values\n",
        "    df.dropna(inplace=True)\n",
        "\n",
        "    # Drop duplicate rows\n",
        "    df.drop_duplicates(inplace=True)\n",
        "\n",
        "    # Standardize column names to lowercase and replace spaces with underscores\n",
        "    df.columns = df.columns.str.lower().str.replace(' ', '_')\n",
        "\n",
        "    # Save the cleaned dataset to a new file\n",
        "    df.to_csv(output_path, index=False)\n",
        "\n",
        "    print(\"Data cleaning complete. Cleaned file saved to:\", output_path)\n",
        "\n",
        "# Example usage\n",
        "input_file = 'raw_data.csv'\n",
        "output_file = 'cleaned_data.csv'\n",
        "clean_data(input_file, output_file)\n"
      ]
    }
  ]
}